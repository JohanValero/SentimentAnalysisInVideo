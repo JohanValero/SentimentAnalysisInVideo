{
 "cells": [
  {
   "cell_type": "code",
   "execution_count": 1,
   "metadata": {},
   "outputs": [
    {
     "name": "stderr",
     "output_type": "stream",
     "text": [
      "c:\\Users\\Johan\\Documents\\Projects\\Python\\SenadoWhisper\\env\\lib\\site-packages\\tqdm\\auto.py:21: TqdmWarning: IProgress not found. Please update jupyter and ipywidgets. See https://ipywidgets.readthedocs.io/en/stable/user_install.html\n",
      "  from .autonotebook import tqdm as notebook_tqdm\n"
     ]
    }
   ],
   "source": [
    "import whisper\n",
    "from pytube import YouTube"
   ]
  },
  {
   "cell_type": "code",
   "execution_count": 2,
   "metadata": {},
   "outputs": [],
   "source": [
    "vModel = whisper.load_model(\"base\")\n",
    "vLink = \"https://www.youtube.com/watch?v=tkY3tR9_ryI\"\n",
    "vYoutubeObject = YouTube(vLink)"
   ]
  },
  {
   "cell_type": "code",
   "execution_count": 3,
   "metadata": {},
   "outputs": [
    {
     "name": "stdout",
     "output_type": "stream",
     "text": [
      "Audio stream: <Stream: itag=\"249\" mime_type=\"audio/webm\" abr=\"50kbps\" acodec=\"opus\" progressive=\"False\" type=\"audio\">\n"
     ]
    },
    {
     "data": {
      "text/plain": [
       "'c:\\\\Users\\\\Johan\\\\Documents\\\\Projects\\\\Python\\\\SenadoWhisper\\\\notebooks\\\\tmp.mp4'"
      ]
     },
     "execution_count": 3,
     "metadata": {},
     "output_type": "execute_result"
    }
   ],
   "source": [
    "cAUDIO_FILE = \"tmp.mp4\"\n",
    "vAudioStreams = vYoutubeObject.streams.filter(only_audio = True)\n",
    "print(\"Audio stream:\", vAudioStreams[1])\n",
    "vAudioStreams[1].download(filename = cAUDIO_FILE)"
   ]
  },
  {
   "cell_type": "code",
   "execution_count": 4,
   "metadata": {},
   "outputs": [
    {
     "name": "stderr",
     "output_type": "stream",
     "text": [
      "c:\\Users\\Johan\\Documents\\Projects\\Python\\SenadoWhisper\\env\\lib\\site-packages\\whisper\\transcribe.py:114: UserWarning: FP16 is not supported on CPU; using FP32 instead\n",
      "  warnings.warn(\"FP16 is not supported on CPU; using FP32 instead\")\n"
     ]
    }
   ],
   "source": [
    "vResult = vModel.transcribe(cAUDIO_FILE)"
   ]
  },
  {
   "cell_type": "code",
   "execution_count": 5,
   "metadata": {},
   "outputs": [],
   "source": [
    "import json\n",
    "\n",
    "with open(\"transcribe.json\", \"w\") as vFile:\n",
    "    vFile.write(json.dumps(vResult))"
   ]
  },
  {
   "cell_type": "code",
   "execution_count": 14,
   "metadata": {},
   "outputs": [
    {
     "name": "stderr",
     "output_type": "stream",
     "text": [
      "Downloading (…)lve/main/config.json: 100%|██████████| 834/834 [00:00<00:00, 320kB/s]\n",
      "Downloading pytorch_model.bin: 100%|██████████| 440M/440M [00:16<00:00, 26.4MB/s] \n",
      "Downloading (…)okenizer_config.json: 100%|██████████| 528/528 [00:00<00:00, 259kB/s]\n",
      "Downloading (…)solve/main/vocab.txt: 100%|██████████| 242k/242k [00:00<00:00, 1.55MB/s]\n",
      "Downloading (…)cial_tokens_map.json: 100%|██████████| 112/112 [00:00<00:00, 108kB/s]\n"
     ]
    }
   ],
   "source": [
    "from transformers import pipeline\n",
    "\n",
    "gClassifier = pipeline(\n",
    "    \"zero-shot-classification\", \n",
    "    model = \"Recognai/bert-base-spanish-wwm-cased-xnli\"\n",
    ")"
   ]
  },
  {
   "cell_type": "code",
   "execution_count": 15,
   "metadata": {},
   "outputs": [
    {
     "data": {
      "text/plain": [
       "' ¿Qué buena idea no funciona porque la gente es basura?'"
      ]
     },
     "execution_count": 15,
     "metadata": {},
     "output_type": "execute_result"
    }
   ],
   "source": [
    "vResult[\"segments\"][0][\"text\"]"
   ]
  },
  {
   "cell_type": "code",
   "execution_count": 42,
   "metadata": {},
   "outputs": [
    {
     "data": {
      "text/plain": [
       "[('Neutral', 0.3934624195098877),\n",
       " ('Satisfecho', 0.3514392375946045),\n",
       " ('Frustado', 0.17141038179397583),\n",
       " ('Feliz', 0.08368799090385437)]"
      ]
     },
     "execution_count": 42,
     "metadata": {},
     "output_type": "execute_result"
    }
   ],
   "source": [
    "gCandidateLabels = [\"Feliz\", \"Frustado\", \"Neutral\", \"Satisfecho\"]\n",
    "\n",
    "vClassifierResult = gClassifier(\n",
    "    vResult[\"segments\"][0][\"text\"],\n",
    "    candidate_labels = gCandidateLabels,\n",
    "    hypothesis_template = \"El texto se puede clasificar su mensaje emocional como: {}\"\n",
    ")\n",
    "vZipResult = [x for x in zip(vClassifierResult[\"labels\"], vClassifierResult[\"scores\"])]\n",
    "vZipResult"
   ]
  },
  {
   "cell_type": "code",
   "execution_count": 48,
   "metadata": {},
   "outputs": [],
   "source": [
    "vProcessedText = list()\n",
    "for tSegment in vResult[\"segments\"]:\n",
    "    vClassifierResult = gClassifier(\n",
    "        tSegment[\"text\"],\n",
    "        candidate_labels = gCandidateLabels,\n",
    "        hypothesis_template = \"The spanish text it's into the next emotion: {}\"\n",
    "    )\n",
    "    vZipResult = [x for x in zip(vClassifierResult[\"labels\"], vClassifierResult[\"scores\"])]\n",
    "    vMaxScore = vZipResult[0][1]\n",
    "    vMaxTag = vZipResult[0][0]\n",
    "\n",
    "    for tTag, tScore in vZipResult:\n",
    "        if vMaxScore < tScore:\n",
    "            vMaxScore = tScore\n",
    "            vMaxTag = tTag\n",
    "\n",
    "    vProcessedText.append({\n",
    "        \"id\": tSegment[\"id\"],\n",
    "        \"text\": tSegment[\"text\"],\n",
    "        \"start\": tSegment[\"start\"],\n",
    "        \"end\": tSegment[\"end\"],\n",
    "        \"score\": vMaxScore,\n",
    "        \"tag\": vMaxTag\n",
    "    })"
   ]
  },
  {
   "cell_type": "code",
   "execution_count": 59,
   "metadata": {},
   "outputs": [
    {
     "data": {
      "text/plain": [
       "array([ 0,  0,  0,  0,  0,  0,  1,  2,  3,  3,  4,  4,  5,  6,  7,  8,  8,\n",
       "        9, 10, 10, 10, 11, 11, 12, 12, 12, 13, 14, 14, 14])"
      ]
     },
     "execution_count": 59,
     "metadata": {},
     "output_type": "execute_result"
    }
   ],
   "source": [
    "import matplotlib.pyplot as plt\n",
    "import numpy as np\n",
    "\n",
    "vFrustadoList = list()\n",
    "vFelizList = list()\n",
    "vNeutralList = list()\n",
    "vSatisfechoList = list()\n",
    "vIndex = list()\n",
    "\n",
    "for tSegment in vProcessedText[0:30]:\n",
    "    vIndex.append(tSegment[\"start\"])\n",
    "    if tSegment[\"tag\"] == \"Frustado\":\n",
    "        vFrustadoList.append(1)\n",
    "        vFelizList.append(0)\n",
    "        vNeutralList.append(0)\n",
    "        vSatisfechoList.append(0)\n",
    "    if tSegment[\"tag\"] == \"Feliz\":\n",
    "        vFelizList.append(1)\n",
    "        vFrustadoList.append(0)\n",
    "        vNeutralList.append(0)\n",
    "        vSatisfechoList.append(0)\n",
    "    if tSegment[\"tag\"] == \"Neutral\":\n",
    "        vNeutralList.append(1)\n",
    "        vFrustadoList.append(0)\n",
    "        vFelizList.append(0)\n",
    "        vSatisfechoList.append(0)\n",
    "    if tSegment[\"tag\"] == \"Satisfecho\":\n",
    "        vSatisfechoList.append(1)\n",
    "        vFrustadoList.append(0)\n",
    "        vFelizList.append(0)\n",
    "        vNeutralList.append(0)\n",
    "\n",
    "vFrustadoCounter = 0\n",
    "vFelizCounter = 0\n",
    "vNeutralCounter = 0\n",
    "vSatisfechoCounter = 0\n",
    "\n",
    "for i, _ in enumerate(vFrustadoList):\n",
    "    vFrustadoCounter = vFrustadoCounter + vFrustadoList[i]\n",
    "    vFelizCounter = vFelizCounter + vFelizList[i]\n",
    "    vNeutralCounter = vNeutralCounter + vNeutralList[i]\n",
    "    vSatisfechoCounter = vSatisfechoCounter + vSatisfechoList[i]\n",
    "\n",
    "    vFrustadoList[i] = vFrustadoCounter\n",
    "    vFelizList[i] = vFelizCounter\n",
    "    vNeutralList[i] = vNeutralCounter\n",
    "    vSatisfechoList[i] = vSatisfechoCounter\n",
    "\n",
    "vFrustadoList = np.array(vFrustadoList)\n",
    "vFelizList = np.array(vFelizList)\n",
    "vNeutralList = np.array(vNeutralList)\n",
    "vSatisfechoList = np.array(vSatisfechoList)\n",
    "vIndex = np.array(vIndex)\n",
    "\n",
    "#vProcessedText\n",
    "vSatisfechoList"
   ]
  },
  {
   "cell_type": "code",
   "execution_count": 61,
   "metadata": {},
   "outputs": [
    {
     "data": {
      "image/png": "[encoded data removed]",
      "text/plain": [
       "<Figure size 640x480 with 1 Axes>"
      ]
     },
     "metadata": {},
     "output_type": "display_data"
    }
   ],
   "source": [
    "plt.plot(vIndex, vFrustadoList, label = \"Frustado\")\n",
    "plt.plot(vIndex, vFelizList, label = \"Feliz\")\n",
    "plt.plot(vIndex, vNeutralList, label = \"Neutral\")\n",
    "plt.plot(vIndex, vSatisfechoList, label = \"Satisfecho\")\n",
    "plt.legend()\n",
    "plt.show()"
   ]
  }
 ],
 "metadata": {
  "kernelspec": {
   "display_name": "Python 3",
   "language": "python",
   "name": "python3"
  },
  "language_info": {
   "codemirror_mode": {
    "name": "ipython",
    "version": 3
   },
   "file_extension": ".py",
   "mimetype": "text/x-python",
   "name": "python",
   "nbconvert_exporter": "python",
   "pygments_lexer": "ipython3",
   "version": "3.10.9"
  },
  "orig_nbformat": 4
 },
 "nbformat": 4,
 "nbformat_minor": 2
}
